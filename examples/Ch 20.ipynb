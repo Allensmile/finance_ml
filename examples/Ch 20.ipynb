{
 "cells": [
  {
   "cell_type": "code",
   "execution_count": 21,
   "metadata": {},
   "outputs": [],
   "source": [
    "import numpy as np\n",
    "import pandas as pd\n",
    "import multiprocessing as mp\n",
    "\n",
    "\n",
    "def lin_parts(num_atoms, num_threads):\n",
    "    parts = np.linspace(0, num_atoms, min(num_threads, num_atoms) + 1)\n",
    "    parts = np.ceil(parts).astype(int)\n",
    "    return parts\n",
    "\n",
    "\n",
    "def nested_parts(num_atoms, num_threads, descend=False):\n",
    "    parts = [0]\n",
    "    num_threads = min(num_threads, num_atoms)\n",
    "    for num in range(num_threads):\n",
    "        part = 1 + 4 * (parts[-1] ** 2 + parts[-1] + num_atoms * (num_atoms + 1.) / num_threads)\n",
    "        part = 0.5 * (-1 + np.sqrt(part))\n",
    "        parts.append(part)\n",
    "    if descend:\n",
    "        # Computational decreases as index increases\n",
    "        parts = np.cumsum(np.diff(parts)[::-1])\n",
    "        parts = np.append(np.array([0]), parts)\n",
    "    parts = np.round(parts).astype(int)\n",
    "    return parts "
   ]
  },
  {
   "cell_type": "code",
   "execution_count": 24,
   "metadata": {},
   "outputs": [
    {
     "data": {
      "text/plain": [
       "array([ 0, 10, 14, 17, 20])"
      ]
     },
     "execution_count": 24,
     "metadata": {},
     "output_type": "execute_result"
    }
   ],
   "source": [
    "nested_parts(20, 4)"
   ]
  },
  {
   "cell_type": "code",
   "execution_count": 25,
   "metadata": {},
   "outputs": [
    {
     "data": {
      "text/plain": [
       "array([ 0,  3,  6, 10, 20])"
      ]
     },
     "execution_count": 25,
     "metadata": {},
     "output_type": "execute_result"
    }
   ],
   "source": [
    "nested_parts(20, 4, True)"
   ]
  },
  {
   "cell_type": "code",
   "execution_count": 26,
   "metadata": {},
   "outputs": [
    {
     "data": {
      "text/plain": [
       "array([ 0,  5, 10, 15, 20])"
      ]
     },
     "execution_count": 26,
     "metadata": {},
     "output_type": "execute_result"
    }
   ],
   "source": [
    "lin_parts(20, 4)"
   ]
  },
  {
   "cell_type": "code",
   "execution_count": 16,
   "metadata": {},
   "outputs": [],
   "source": [
    "parts_ = np.cumsum(np.diff(parts)[::-1])\n",
    "parts_ = np.append(np.array([0]),parts_)"
   ]
  },
  {
   "cell_type": "code",
   "execution_count": 17,
   "metadata": {},
   "outputs": [
    {
     "data": {
      "text/plain": [
       "array([ 0,  3,  6, 10, 20])"
      ]
     },
     "execution_count": 17,
     "metadata": {},
     "output_type": "execute_result"
    }
   ],
   "source": [
    "parts_"
   ]
  },
  {
   "cell_type": "code",
   "execution_count": 18,
   "metadata": {},
   "outputs": [
    {
     "name": "stdout",
     "output_type": "stream",
     "text": [
      "Help on function append in module numpy.lib.function_base:\n",
      "\n",
      "append(arr, values, axis=None)\n",
      "    Append values to the end of an array.\n",
      "    \n",
      "    Parameters\n",
      "    ----------\n",
      "    arr : array_like\n",
      "        Values are appended to a copy of this array.\n",
      "    values : array_like\n",
      "        These values are appended to a copy of `arr`.  It must be of the\n",
      "        correct shape (the same shape as `arr`, excluding `axis`).  If\n",
      "        `axis` is not specified, `values` can be any shape and will be\n",
      "        flattened before use.\n",
      "    axis : int, optional\n",
      "        The axis along which `values` are appended.  If `axis` is not\n",
      "        given, both `arr` and `values` are flattened before use.\n",
      "    \n",
      "    Returns\n",
      "    -------\n",
      "    append : ndarray\n",
      "        A copy of `arr` with `values` appended to `axis`.  Note that\n",
      "        `append` does not occur in-place: a new array is allocated and\n",
      "        filled.  If `axis` is None, `out` is a flattened array.\n",
      "    \n",
      "    See Also\n",
      "    --------\n",
      "    insert : Insert elements into an array.\n",
      "    delete : Delete elements from an array.\n",
      "    \n",
      "    Examples\n",
      "    --------\n",
      "    >>> np.append([1, 2, 3], [[4, 5, 6], [7, 8, 9]])\n",
      "    array([1, 2, 3, 4, 5, 6, 7, 8, 9])\n",
      "    \n",
      "    When `axis` is specified, `values` must have the correct shape.\n",
      "    \n",
      "    >>> np.append([[1, 2, 3], [4, 5, 6]], [[7, 8, 9]], axis=0)\n",
      "    array([[1, 2, 3],\n",
      "           [4, 5, 6],\n",
      "           [7, 8, 9]])\n",
      "    >>> np.append([[1, 2, 3], [4, 5, 6]], [7, 8, 9], axis=0)\n",
      "    Traceback (most recent call last):\n",
      "    ...\n",
      "    ValueError: arrays must have same number of dimensions\n",
      "\n"
     ]
    }
   ],
   "source": [
    "help(np.append)"
   ]
  },
  {
   "cell_type": "code",
   "execution_count": 20,
   "metadata": {},
   "outputs": [
    {
     "data": {
      "text/plain": [
       "array([ 3,  3,  4, 10])"
      ]
     },
     "execution_count": 20,
     "metadata": {},
     "output_type": "execute_result"
    }
   ],
   "source": [
    "np.diff(parts)[::-1]"
   ]
  },
  {
   "cell_type": "code",
   "execution_count": 11,
   "metadata": {},
   "outputs": [],
   "source": [
    "def barrier_touch(r, width=.5):\n",
    "    t = dict()\n",
    "    p = np.log((1 + r).cumprod(axis=0))\n",
    "    for j in range(r.shape[1]):\n",
    "        for i in range(r.shape[0]):\n",
    "            if p[i, j] >= width or p[i, j] <= -width:\n",
    "                t[j] = i\n",
    "                continue\n",
    "    return t"
   ]
  },
  {
   "cell_type": "code",
   "execution_count": 12,
   "metadata": {},
   "outputs": [
    {
     "name": "stdout",
     "output_type": "stream",
     "text": [
      "CPU times: user 38.1 ms, sys: 104 ms, total: 143 ms\n",
      "Wall time: 365 ms\n"
     ]
    }
   ],
   "source": [
    "%%time\n",
    "parts = np.linspace(0, r.shape[0], min(num_threads, r.shape[0]) + 1)\n",
    "parts = np.ceil(parts).astype(int)\n",
    "jobs = []\n",
    "for i  in range(1, len(parts)):\n",
    "    jobs.append(r[:, parts[i-1]:parts[i]])\n",
    "pool = mp.Pool(processes=num_threads)\n",
    "out = []\n",
    "outputs = pool.imap_unordered(barrier_touch, jobs)\n",
    "for out_ in outputs:\n",
    "    out.append(out_)\n",
    "pool.close()\n",
    "pool.join()"
   ]
  },
  {
   "cell_type": "code",
   "execution_count": 13,
   "metadata": {},
   "outputs": [
    {
     "name": "stdout",
     "output_type": "stream",
     "text": [
      "CPU times: user 4.39 s, sys: 90.3 ms, total: 4.48 s\n",
      "Wall time: 4.48 s\n"
     ]
    }
   ],
   "source": [
    "%%time\n",
    "out = barrier_touch(r)"
   ]
  },
  {
   "cell_type": "code",
   "execution_count": 14,
   "metadata": {},
   "outputs": [],
   "source": [
    "def lin_parts(num_atoms, num_threads):\n",
    "    parts = np.linspace(0, num_atoms, min(num_threads, num_atoms) + 1)\n",
    "    parts = np.ceil(parts).astype(int)\n",
    "    return parts"
   ]
  },
  {
   "cell_type": "code",
   "execution_count": 15,
   "metadata": {},
   "outputs": [],
   "source": [
    "import pandas as pd\n",
    "import numpy as np\n",
    "\n",
    "def process_jobs(jobs):\n",
    "    out = []\n",
    "    for job in jobs:\n",
    "        out_ = expand_call(job)\n",
    "        out.append(out_)\n",
    "    return out\n",
    "\n",
    "def mp_pandas_obj(func, pd_obj, num_threads=24, mp_batches=1, lin_mols=True, **kwargs):\n",
    "    num_atoms = len(pd_obj[1])\n",
    "    if lin_mols:\n",
    "        parts = lin_parts(num_atoms, num_threads * mp_batches)\n",
    "    else:\n",
    "        parts = nested_parts(num_atoms, num_threads * mp_batches)\n",
    "    jobs = []\n",
    "    for i in range(1, len(parts)):\n",
    "        job = {pd_obj[0]: pd_obj[1][parts[i - 1]:parts[i]], 'func': func}\n",
    "        job.update(kwargs)\n",
    "        jobs.append(job)\n",
    "    if num_threads == 1:\n",
    "        out = process_jobs(jobs)\n",
    "    else:\n",
    "        out = process_jobs(jobs, num_threads=num_threads)\n",
    "    \n",
    "    if isinstance(out[0], pd.DataFrame):\n",
    "        df0 = pd.DataFrame()\n",
    "    elif isinstance(out[0], pd.Series):\n",
    "        df0 = pd.Series()\n",
    "    else:\n",
    "        return out\n",
    "    \n",
    "    for i in out:\n",
    "        df0 = df0.append(i)\n",
    "    df0 = df0.sort_index()\n",
    "    return df0"
   ]
  },
  {
   "cell_type": "code",
   "execution_count": 16,
   "metadata": {},
   "outputs": [],
   "source": [
    "import multiprocessing as mp\n",
    "import time\n",
    "import datetime\n",
    "import sys\n",
    "\n",
    "\n",
    "def report_progress(job_num, num_jobs, time0, task):\n",
    "    msg = [float(job_num) / num_jobs, (time.time() - time0) / 60.]\n",
    "    msg.append(msg[1] * (1 / msg[0] - 1))\n",
    "    time_stamp  = str(datetime.datetime.fromtimestamp(time.time()))\n",
    "    msg = time_stamp + ' ' + str(round(msg[0] * 100, 2)) + '% ' + task + ' done after ' + \\\n",
    "        str(round(msg[1], 2)) + ' minutes. Remaining ' + str(round(mgs[2], 2)) + ' minutes.'\n",
    "    if job_num < num_jobs:\n",
    "        sys.stderr.write(msg + '\\r')\n",
    "    else:\n",
    "        sys.stderr.write(msg + '\\n')\n",
    "        \n",
    "\n",
    "def process_jobs(jobs, task=None, num_threads=24):\n",
    "    if task is None:\n",
    "        task = jobs[0]['func'].__name__\n",
    "    pool = mp.Pool(processes=num_threads)\n",
    "    \n",
    "    outputs = pool.imap_unordered(expand_call, jobs)\n",
    "    out = []\n",
    "    time0 =  time.time()\n",
    "    for i, out_ in enumerate(outputs, 1):\n",
    "        out.append(out_)\n",
    "        report_progress(i, len(jobs), time0, task)\n",
    "    pool.close()\n",
    "    pool.join()\n",
    "    return out"
   ]
  },
  {
   "cell_type": "markdown",
   "metadata": {},
   "source": [
    "# 20.1"
   ]
  },
  {
   "cell_type": "code",
   "execution_count": 17,
   "metadata": {},
   "outputs": [],
   "source": [
    "from itertools import product\n",
    "\n",
    "dict0 = {'a': ['1', '2'], 'b': ['+', '*'], 'c': ['!', '@']}\n",
    "jobs = (dict(zip(dict0,i)) for i in product(*dict0.values()))"
   ]
  },
  {
   "cell_type": "code",
   "execution_count": 18,
   "metadata": {},
   "outputs": [
    {
     "data": {
      "text/plain": [
       "[('1', '+', '!'),\n",
       " ('1', '+', '@'),\n",
       " ('1', '*', '!'),\n",
       " ('1', '*', '@'),\n",
       " ('2', '+', '!'),\n",
       " ('2', '+', '@'),\n",
       " ('2', '*', '!'),\n",
       " ('2', '*', '@')]"
      ]
     },
     "execution_count": 18,
     "metadata": {},
     "output_type": "execute_result"
    }
   ],
   "source": [
    "list(product(*dict0.values()))"
   ]
  },
  {
   "cell_type": "code",
   "execution_count": 19,
   "metadata": {},
   "outputs": [
    {
     "data": {
      "text/plain": [
       "[{'a': '1', 'b': '+', 'c': '!'},\n",
       " {'a': '1', 'b': '+', 'c': '@'},\n",
       " {'a': '1', 'b': '*', 'c': '!'},\n",
       " {'a': '1', 'b': '*', 'c': '@'},\n",
       " {'a': '2', 'b': '+', 'c': '!'},\n",
       " {'a': '2', 'b': '+', 'c': '@'},\n",
       " {'a': '2', 'b': '*', 'c': '!'},\n",
       " {'a': '2', 'b': '*', 'c': '@'}]"
      ]
     },
     "execution_count": 19,
     "metadata": {},
     "output_type": "execute_result"
    }
   ],
   "source": [
    "list(jobs)"
   ]
  },
  {
   "cell_type": "code",
   "execution_count": null,
   "metadata": {
    "collapsed": true
   },
   "outputs": [],
   "source": []
  }
 ],
 "metadata": {
  "kernelspec": {
   "display_name": "Python 3",
   "language": "python",
   "name": "python3"
  },
  "language_info": {
   "codemirror_mode": {
    "name": "ipython",
    "version": 3
   },
   "file_extension": ".py",
   "mimetype": "text/x-python",
   "name": "python",
   "nbconvert_exporter": "python",
   "pygments_lexer": "ipython3",
   "version": "3.6.4"
  }
 },
 "nbformat": 4,
 "nbformat_minor": 2
}
