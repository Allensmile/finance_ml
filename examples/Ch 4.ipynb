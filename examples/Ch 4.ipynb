{
 "cells": [
  {
   "cell_type": "code",
   "execution_count": 1,
   "metadata": {},
   "outputs": [],
   "source": [
    "import pandas as pd\n",
    "import numpy as np\n",
    "from finance_ml.multiprocessing import mp_pandas_obj\n",
    "from finance_ml.labeling import cusum_filter, get_t1, get_events, get_bins\n",
    "from finance_ml.stats import get_daily_vol\n",
    "\n",
    "\n",
    "df = pd.read_csv(\"../datasets/Google.csv\")\n",
    "df.index = pd.DatetimeIndex(df['Date'].values)\n",
    "close = df[\"Close\"]"
   ]
  },
  {
   "cell_type": "code",
   "execution_count": 2,
   "metadata": {
    "collapsed": true
   },
   "outputs": [],
   "source": [
    "def mp_num_co_events(close_idx, t1, molecule):\n",
    "    # Find events that span the period defined by molecule\n",
    "    t1 = t1.fillna(close_idx[-1])\n",
    "    t1 = t1[t1 >= molecule[0]]\n",
    "    t1 = t1.loc[:t1[molecule].max()]\n",
    "    # Count the events\n",
    "    iloc = close_index.searchsorted(np.array([t1.index[0], t1.max()]))\n",
    "    count = pd.Series(0, index=close_idx[loc[0]: iloc[1] + 1])\n",
    "    for t_in, t_out in t1.iterterms():\n",
    "        count.loc[t_in: t_out] += 1\n",
    "    return count.loc[molecule[0]: t1[molecule].max()]"
   ]
  },
  {
   "cell_type": "code",
   "execution_count": 3,
   "metadata": {
    "collapsed": true
   },
   "outputs": [],
   "source": [
    "def mp_sample_tw(t1, num_co_events, molecule):\n",
    "    wght = pd.Series(index=molecule)\n",
    "    for t_in, t_out in t1.loc[wght.index].iteritems():\n",
    "        wght.loc[t_in] = (1. / num_co_events.loc[t_in: t_out]).mean()\n",
    "    return wght"
   ]
  },
  {
   "cell_type": "code",
   "execution_count": 4,
   "metadata": {
    "collapsed": true
   },
   "outputs": [],
   "source": [
    "def get_ind_matrix(bar_idx, t1):\n",
    "    ind_m = pd.DataFrame(0, index=bar_idx,\n",
    "                         columns=range(t1.shape[0]))\n",
    "    for  i, (t0_, t1_) in enumerate(t1.iteritems()):\n",
    "        ind_m.loc[t0_:t1_, i] = 1\n",
    "    return ind_m\n",
    "\n",
    "def get_avg_uniquness(ind_m):\n",
    "    c = ind_m.sum(axis=1)\n",
    "    u = ind_m.div(c, axis=0)\n",
    "    avg_u = u[u>0].mean()\n",
    "    return avg_u"
   ]
  },
  {
   "cell_type": "code",
   "execution_count": 5,
   "metadata": {
    "collapsed": true
   },
   "outputs": [],
   "source": [
    "def seq_bootstrap(ind_m, s_length=None):\n",
    "    if s_length is None:\n",
    "        s_length = ind_m.shape[1]\n",
    "    phi = []\n",
    "    while len(phi) < s_length:\n",
    "        avg_u = pd.Series()\n",
    "        for i in ind_m:\n",
    "            ind_m_ = ind_m[phi + [i]]\n",
    "            avg_u.loc[i] = get_avg_uniquness(ind_m_).iloc[-1]\n",
    "        prob = avg_u / avg_u.sum()\n",
    "        phi += [np.random.choice(ind_m.columns, p=prob)]\n",
    "    return phi"
   ]
  },
  {
   "cell_type": "code",
   "execution_count": 6,
   "metadata": {
    "collapsed": true
   },
   "outputs": [],
   "source": [
    "t1 = pd.Series([2, 3, 5], index=[0, 2, 4])\n",
    "bar_idx = range(t1.max() + 1)"
   ]
  },
  {
   "cell_type": "code",
   "execution_count": 7,
   "metadata": {},
   "outputs": [
    {
     "name": "stdout",
     "output_type": "stream",
     "text": [
      "[0 1 2]\n"
     ]
    }
   ],
   "source": [
    "ind_m = get_ind_matrix(bar_idx, t1)\n",
    "phi = np.random.choice(ind_m.columns, size=ind_m.shape[1])\n",
    "print(phi)"
   ]
  },
  {
   "cell_type": "code",
   "execution_count": 8,
   "metadata": {},
   "outputs": [
    {
     "data": {
      "text/plain": [
       "0    0.833333\n",
       "1    0.750000\n",
       "2    1.000000\n",
       "dtype: float64"
      ]
     },
     "execution_count": 8,
     "metadata": {},
     "output_type": "execute_result"
    }
   ],
   "source": [
    "get_avg_uniquness(ind_m[phi])"
   ]
  },
  {
   "cell_type": "code",
   "execution_count": 9,
   "metadata": {
    "collapsed": true
   },
   "outputs": [],
   "source": [
    "phi = seq_bootstrap(ind_m)"
   ]
  },
  {
   "cell_type": "code",
   "execution_count": 10,
   "metadata": {},
   "outputs": [
    {
     "data": {
      "text/plain": [
       "[0, 2, 1]"
      ]
     },
     "execution_count": 10,
     "metadata": {},
     "output_type": "execute_result"
    }
   ],
   "source": [
    "phi"
   ]
  },
  {
   "cell_type": "code",
   "execution_count": 11,
   "metadata": {},
   "outputs": [
    {
     "data": {
      "text/plain": [
       "0    0.833333\n",
       "2    1.000000\n",
       "1    0.750000\n",
       "dtype: float64"
      ]
     },
     "execution_count": 11,
     "metadata": {},
     "output_type": "execute_result"
    }
   ],
   "source": [
    "get_avg_uniquness(ind_m[phi])"
   ]
  },
  {
   "cell_type": "code",
   "execution_count": 12,
   "metadata": {
    "collapsed": true
   },
   "outputs": [],
   "source": [
    "def get_rnd_t1(num_obs, num_bars, max_h):\n",
    "    t1 = pd.Series()\n",
    "    for i in xrange(num_obs):\n",
    "        ix = np.random.randin(0, num_bars)\n",
    "        val = ix + np.random.randint(1, max_h)\n",
    "    return t1.sort_index()"
   ]
  },
  {
   "cell_type": "code",
   "execution_count": 13,
   "metadata": {
    "collapsed": true
   },
   "outputs": [],
   "source": [
    "def auxMC(num_obs, num_bars, max_h):\n",
    "    t1 = get_rnd_t1(num_obs, num_bars, max_h)\n",
    "    bar_idx = range(t1.max() + 1)\n",
    "    ind_m = get_ind_matrix(bar_idx, t1)\n",
    "    phi = np.random.choice(ind_m.columns, sizez=ind_m.shape[1])\n",
    "    std_u = get_avg_uniquness(ind_m[phi]).mean()\n",
    "    phi = seq_bootstrap(ind_m)\n",
    "    seq_u = get_avg_uniquness(ind_m[phi]).mean()\n",
    "    return {'std_u': std_u, 'seq_u': seq_u}"
   ]
  },
  {
   "cell_type": "code",
   "execution_count": 14,
   "metadata": {
    "collapsed": true
   },
   "outputs": [],
   "source": [
    "def mp_sample_w(t1, num_co_events, close, molecule):\n",
    "    ret = np.log(close).diff()\n",
    "    wght = pd.Series(index=molecule)\n",
    "    for t_in, t_out in t1.loc[wght.index].iteritems():\n",
    "        wght.loc[t_in] = (ret.loc[t_in:t_out] / num_co_events.loc[t_in:t_out]).sum()\n",
    "    return wght.abs()"
   ]
  },
  {
   "cell_type": "code",
   "execution_count": 15,
   "metadata": {
    "collapsed": true
   },
   "outputs": [],
   "source": [
    "def get_time_decay(tw, clf_last_w=1.):\n",
    "    clf_w = tw.sort_index().cumsum()\n",
    "    if clf_last_w >= 0:\n",
    "        slope = (1. - clf_last_w) / clf_w.iloc[-1]\n",
    "    else:\n",
    "        slope = 1. / ((clf_last_w + 1) * clf_w.iloc[-1])\n",
    "    const = 1. - slope * clf_w.iloc[-1]\n",
    "    clf_w = const + slope * clf_w\n",
    "    clf_w[clf_w < 0] = 0\n",
    "    print(const, slope)\n",
    "    return clf_w"
   ]
  },
  {
   "cell_type": "code",
   "execution_count": 16,
   "metadata": {},
   "outputs": [
    {
     "name": "stderr",
     "output_type": "stream",
     "text": [
      "/home/tomoaki/anaconda3/lib/python3.6/site-packages/finance_ml-0.1-py3.6.egg/finance_ml/labeling/barriers.py:37: FutureWarning: \n",
      "Passing list-likes to .loc or [] with any missing label will raise\n",
      "KeyError in the future, you can use .reindex() as an alternative.\n",
      "\n",
      "See the documentation here:\n",
      "http://pandas.pydata.org/pandas-docs/stable/indexing.html#deprecate-loc-reindex-listlike\n",
      "2018-06-30 12:28:01.838772 100.0% apply_ptslt1 done after 0.03 minutes. Remaining 0.0 minutes.\n"
     ]
    },
    {
     "data": {
      "text/html": [
       "<div>\n",
       "<style scoped>\n",
       "    .dataframe tbody tr th:only-of-type {\n",
       "        vertical-align: middle;\n",
       "    }\n",
       "\n",
       "    .dataframe tbody tr th {\n",
       "        vertical-align: top;\n",
       "    }\n",
       "\n",
       "    .dataframe thead th {\n",
       "        text-align: right;\n",
       "    }\n",
       "</style>\n",
       "<table border=\"1\" class=\"dataframe\">\n",
       "  <thead>\n",
       "    <tr style=\"text-align: right;\">\n",
       "      <th></th>\n",
       "      <th>t1</th>\n",
       "      <th>trgt</th>\n",
       "      <th>t1_type</th>\n",
       "    </tr>\n",
       "  </thead>\n",
       "  <tbody>\n",
       "    <tr>\n",
       "      <th>2004-08-24</th>\n",
       "      <td>2004-08-25</td>\n",
       "      <td>0.036396</td>\n",
       "      <td>t1</td>\n",
       "    </tr>\n",
       "    <tr>\n",
       "      <th>2004-08-25</th>\n",
       "      <td>2004-08-26</td>\n",
       "      <td>0.029930</td>\n",
       "      <td>t1</td>\n",
       "    </tr>\n",
       "    <tr>\n",
       "      <th>2004-08-31</th>\n",
       "      <td>2004-09-01</td>\n",
       "      <td>0.026605</td>\n",
       "      <td>t1</td>\n",
       "    </tr>\n",
       "    <tr>\n",
       "      <th>2004-09-02</th>\n",
       "      <td>2004-09-03</td>\n",
       "      <td>0.024097</td>\n",
       "      <td>t1</td>\n",
       "    </tr>\n",
       "    <tr>\n",
       "      <th>2004-09-07</th>\n",
       "      <td>2004-09-08</td>\n",
       "      <td>0.023610</td>\n",
       "      <td>t1</td>\n",
       "    </tr>\n",
       "  </tbody>\n",
       "</table>\n",
       "</div>"
      ],
      "text/plain": [
       "                   t1      trgt t1_type\n",
       "2004-08-24 2004-08-25  0.036396      t1\n",
       "2004-08-25 2004-08-26  0.029930      t1\n",
       "2004-08-31 2004-09-01  0.026605      t1\n",
       "2004-09-02 2004-09-03  0.024097      t1\n",
       "2004-09-07 2004-09-08  0.023610      t1"
      ]
     },
     "execution_count": 16,
     "metadata": {},
     "output_type": "execute_result"
    }
   ],
   "source": [
    "vol = get_daily_vol(close)\n",
    "sampled_idx = cusum_filter(close, vol)\n",
    "t1 = get_t1(close, sampled_idx, num_days=1)\n",
    "trgt = vol\n",
    "events = get_events(close, t_events=sampled_idx, trgt=trgt,\n",
    "                       ptsl=1, t1=t1)\n",
    "events.head()"
   ]
  },
  {
   "cell_type": "code",
   "execution_count": 18,
   "metadata": {},
   "outputs": [
    {
     "data": {
      "text/plain": [
       "2004-08-24    t1\n",
       "2004-08-25    t1\n",
       "2004-08-31    t1\n",
       "2004-09-02    t1\n",
       "2004-09-07    t1\n",
       "2004-09-15    t1\n",
       "2004-09-21    t1\n",
       "2004-09-23    t1\n",
       "2004-09-28    pt\n",
       "2004-09-29    t1\n",
       "2004-09-30    t1\n",
       "2004-10-06    t1\n",
       "2004-10-11    t1\n",
       "2004-10-12    pt\n",
       "2004-10-18    t1\n",
       "2004-10-19    sl\n",
       "2004-10-20    pt\n",
       "2004-10-21    pt\n",
       "2004-10-25    t1\n",
       "2004-10-26    t1\n",
       "2004-10-27    pt\n",
       "2004-11-01    t1\n",
       "2004-11-02    t1\n",
       "2004-11-04    sl\n",
       "2004-11-08    t1\n",
       "2004-11-09    t1\n",
       "2004-11-11    t1\n",
       "2004-11-16    t1\n",
       "2004-11-17    t1\n",
       "2004-11-22    t1\n",
       "              ..\n",
       "2016-10-10    t1\n",
       "2016-10-11    t1\n",
       "2016-10-13    t1\n",
       "2016-10-18    t1\n",
       "2016-10-19    t1\n",
       "2016-10-20    t1\n",
       "2016-10-24    t1\n",
       "2016-10-25    t1\n",
       "2016-10-31    t1\n",
       "2016-11-02    t1\n",
       "2016-11-03    t1\n",
       "2016-11-07    pt\n",
       "2016-11-08    t1\n",
       "2016-11-09    sl\n",
       "2016-11-10    t1\n",
       "2016-11-14    pt\n",
       "2016-11-15    t1\n",
       "2016-11-16    t1\n",
       "2016-11-21    t1\n",
       "2016-11-28    t1\n",
       "2016-11-30    sl\n",
       "2016-12-05    t1\n",
       "2016-12-06    pt\n",
       "2016-12-07    t1\n",
       "2016-12-08    pt\n",
       "2016-12-12    t1\n",
       "2016-12-15    t1\n",
       "2017-01-03    t1\n",
       "2017-01-04    t1\n",
       "2017-01-09    t1\n",
       "Name: t1_type, Length: 1217, dtype: object"
      ]
     },
     "execution_count": 18,
     "metadata": {},
     "output_type": "execute_result"
    }
   ],
   "source": [
    "events['t1_type']"
   ]
  },
  {
   "cell_type": "code",
   "execution_count": null,
   "metadata": {
    "collapsed": true
   },
   "outputs": [],
   "source": []
  }
 ],
 "metadata": {
  "kernelspec": {
   "display_name": "Python 3",
   "language": "python",
   "name": "python3"
  },
  "language_info": {
   "codemirror_mode": {
    "name": "ipython",
    "version": 3
   },
   "file_extension": ".py",
   "mimetype": "text/x-python",
   "name": "python",
   "nbconvert_exporter": "python",
   "pygments_lexer": "ipython3",
   "version": "3.6.1"
  }
 },
 "nbformat": 4,
 "nbformat_minor": 2
}
